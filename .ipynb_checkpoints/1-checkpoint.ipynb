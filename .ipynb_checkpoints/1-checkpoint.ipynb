{
 "cells": [
  {
   "cell_type": "markdown",
   "metadata": {},
   "source": [
    "# Блок 1 (python basics)\n",
    "\n",
    "## Задание 1.1\n",
    "Вычислить и вывести сотое простое число\n",
    "\n",
    "## Задание 1.2\n",
    "\n",
    "Вывести топ-5 самых встречающихся букв в некотором отрывке текста и их частоты."
   ]
  },
  {
   "cell_type": "markdown",
   "metadata": {},
   "source": [
    "# Задание 2 (numpy)\n",
    "\n",
    "Написать функцию, вычисляющую эвклидово расстояние между объектами, координаты которых заданы в виде `np.ndarray`, где строка соответствует объекту, а столбец координате\n",
    "\n",
    "Вариант со звёздочкой: сделать всё без циклов в три строчки"
   ]
  },
  {
   "cell_type": "markdown",
   "metadata": {},
   "source": [
    "# Задание 3 (matplotlib)\n",
    "\n",
    "Решить произвольное дифференциальное уравнение, задаваемое в виде функции `dxdy` и начальными условиями `x0` и `y0`, численным интегрированием (например, методом Рунге-Кутты) и построить графики зависимости результатов решения от величины шага интегрирования\n",
    "\n",
    "Примерная структура:\n",
    "```Python\n",
    "def dxdy(x, y):\n",
    "    return -x ** y\n",
    "    \n",
    "def integrate(dxdy, x0, y0, x_max, h):\n",
    "    ...\n",
    "    \n",
    "    return [y0, y(x0 + h), y(x0 + 2*h), ..., y(x_max)]\n",
    "    \n",
    "```\n",
    "\n",
    "Примерный вид (для sin(x)):\n",
    "<center><img src='img/1.3.png'></center>"
   ]
  }
 ],
 "metadata": {
  "kernelspec": {
   "display_name": "Python 3",
   "language": "python",
   "name": "python3"
  },
  "language_info": {
   "codemirror_mode": {
    "name": "ipython",
    "version": 3
   },
   "file_extension": ".py",
   "mimetype": "text/x-python",
   "name": "python",
   "nbconvert_exporter": "python",
   "pygments_lexer": "ipython3",
   "version": "3.8.5"
  }
 },
 "nbformat": 4,
 "nbformat_minor": 2
}
