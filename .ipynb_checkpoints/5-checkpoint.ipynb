{
 "cells": [
  {
   "cell_type": "markdown",
   "metadata": {},
   "source": [
    "# Блок 1 (python basics):\n",
    "\n",
    "## Задание 1.1\n",
    "[*Пифагоровы тройки*](https://ru.wikipedia.org/wiki/%D0%9F%D0%B8%D1%84%D0%B0%D0%B3%D0%BE%D1%80%D0%BE%D0%B2%D0%B0_%D1%82%D1%80%D0%BE%D0%B9%D0%BA%D0%B0) - это такие такие тройки натуральных чисел $(x, y, z)$, например, $(3, 4, 5)$, что $x^2 + y^2 = z^2$.\n",
    "\n",
    "Найти все пифагоровы тройки для $z < 200$."
   ]
  },
  {
   "cell_type": "markdown",
   "metadata": {},
   "source": [
    "## Задание 1.2\n",
    "\n",
    "Дан текст. Собрать все слова, начинающиеся с одной буквы. Вывести три буквы, с которых чаще всего начинаются слова и сами слова."
   ]
  },
  {
   "cell_type": "markdown",
   "metadata": {},
   "source": [
    "# Задание 2 (numpy)"
   ]
  },
  {
   "cell_type": "markdown",
   "metadata": {},
   "source": [
    "Дана выборка объектов, которая представляет собой `ndarray` размера `samples`x`dim`. Иными словами, строка представляет собой объект, а `i-й` столбец - `i-ую` коородинату в пространстве. \n",
    "\n",
    "Для каждого объекта найти `k` объектов, расположенных к нему в пространстве ближе остальных.\n",
    "\n",
    "Задание со звёздочкой: вычислять не эвклидово растояние, а косинусное."
   ]
  },
  {
   "cell_type": "markdown",
   "metadata": {},
   "source": [
    "# Задание 3 (matplotlib)\n",
    "\n",
    "Реализовать вычисление sin и cos через ряд Тэйлора. Увеличить точность при минимальном числе членов. Сравнить точность с `math.sin()` и `math.cos()` соответственно и отобразить графически\n",
    "* Зависимость точности от числа членов ряда\n",
    "* Сравнение графиков истиных функций с их приближениями рядами Тэйлора.\n",
    "\n",
    "Пример:\n",
    "<center><img src='img/5.3.png'></center>"
   ]
  }
 ],
 "metadata": {
  "kernelspec": {
   "display_name": "Python 3",
   "language": "python",
   "name": "python3"
  },
  "language_info": {
   "codemirror_mode": {
    "name": "ipython",
    "version": 3
   },
   "file_extension": ".py",
   "mimetype": "text/x-python",
   "name": "python",
   "nbconvert_exporter": "python",
   "pygments_lexer": "ipython3",
   "version": "3.8.5"
  }
 },
 "nbformat": 4,
 "nbformat_minor": 2
}
