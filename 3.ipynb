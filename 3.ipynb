{
 "cells": [
  {
   "cell_type": "markdown",
   "metadata": {},
   "source": [
    "# Блок 1 (python basics):\n",
    "\n",
    "## Задание 1.1\n",
    "Найти составное число в интервале от `100` до `1000`, сумма простых делителей которого наибольшая.\n",
    "\n",
    "## Задание 1.2\n",
    "Вывести все *повторяющиеся* слова в тексте и подсчитать количество повторов. Отсортировать по частоте."
   ]
  },
  {
   "cell_type": "markdown",
   "metadata": {},
   "source": [
    "# Задание 2 (numpy)\n",
    "\n",
    "Смоделировать [двойной кроссинговер](https://ru.wikipedia.org/wiki/%D0%9A%D1%80%D0%BE%D1%81%D1%81%D0%B8%D0%BD%D0%B3%D0%BE%D0%B2%D0%B5%D1%80). \n",
    "\n",
    "Сгенерировать два `ndarray` одинаковой длины, содержащие буквы, соответствующие азотистым основаниям `['A', 'T', 'G', 'C']`, а потом смоделировать кроссинговер по двум случайным точкам.\n",
    "\n",
    "<center><img src='img/xover.jpg' width=400></center>\n",
    "\n",
    "С хромосомами кроссинговер выглядит вот так\n",
    "\n",
    "\n",
    "*N.B. для наглядности один массив можно заполнить прописными, а другой заглавными буквами*"
   ]
  },
  {
   "cell_type": "markdown",
   "metadata": {},
   "source": [
    "# Задание 3 (matplotlib)\n",
    "\n",
    "Сгенерировать три случайных треугольника на плоскости в области $(0 \\le x \\le 1,  0 \\le y \\le 1)$ и приблизтельно оценить площади пересечения хотя бы двух треугольников. \n",
    "Отобразить графически треугольники и области пересечения.\n",
    "\n",
    "Пример:\n",
    "<center><img src='img/3.3.png' width=400></center>"
   ]
  }
 ],
 "metadata": {
  "kernelspec": {
   "display_name": "Python 3",
   "language": "python",
   "name": "python3"
  },
  "language_info": {
   "codemirror_mode": {
    "name": "ipython",
    "version": 3
   },
   "file_extension": ".py",
   "mimetype": "text/x-python",
   "name": "python",
   "nbconvert_exporter": "python",
   "pygments_lexer": "ipython3",
   "version": "3.8.2"
  }
 },
 "nbformat": 4,
 "nbformat_minor": 2
}
