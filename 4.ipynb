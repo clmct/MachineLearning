{
 "cells": [
  {
   "cell_type": "markdown",
   "metadata": {},
   "source": [
    "# Блок 1 (python basics):\n",
    "\n",
    "## Задание 1.1\n",
    "Написать функцию, которая из списка со вложенными списками (различной степени вложенности) делает плоский список, вынимая элементы из этих списков.\n",
    "\n",
    "Совет: целесообразно использовать функцию `isinstance(x, list)`, которая возвращает `True`, если объект оказывается списком."
   ]
  },
  {
   "cell_type": "markdown",
   "metadata": {},
   "source": [
    "## Задание 1.2\n",
    "Найти в тексте все повторяющиеся словосочетания из двух слов. Отсортировать по частоте."
   ]
  },
  {
   "cell_type": "markdown",
   "metadata": {},
   "source": [
    "# Задание 2 (numpy)\n",
    "\n",
    "Отсортировать двухмерный ndarray по возрастанию значения суммы по столбцу. \n",
    "А затем исключить максимальный элемент в каждом столбце и повторить сортировку."
   ]
  },
  {
   "cell_type": "markdown",
   "metadata": {},
   "source": [
    "# Задание 3 (matplotlib)\n",
    "\n",
    "Построить на плоскости в области $(0 \\le x \\le 1,  0 \\le y \\le 1)$ три окружности и приблизительно оценить площадь пересечения хотя бы двух окружностей.\n",
    "\n",
    "<center><img src='img/4.3.png' width=800></center>"
   ]
  }
 ],
 "metadata": {
  "kernelspec": {
   "display_name": "Python 3",
   "language": "python",
   "name": "python3"
  },
  "language_info": {
   "codemirror_mode": {
    "name": "ipython",
    "version": 3
   },
   "file_extension": ".py",
   "mimetype": "text/x-python",
   "name": "python",
   "nbconvert_exporter": "python",
   "pygments_lexer": "ipython3",
   "version": "3.8.5"
  }
 },
 "nbformat": 4,
 "nbformat_minor": 2
}
