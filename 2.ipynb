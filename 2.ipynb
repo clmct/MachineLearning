{
 "cells": [
  {
   "cell_type": "markdown",
   "metadata": {},
   "source": [
    "# Задание 1 (python basics)\n",
    "\n",
    "Написать функцию, которые шифрует и расшифровывает сообщение, закодированное [шифром Вижинера](https://ru.wikipedia.org/wiki/%D0%A8%D0%B8%D1%84%D1%80_%D0%92%D0%B8%D0%B6%D0%B5%D0%BD%D0%B5%D1%80%D0%B0).\n",
    "\n",
    "Язык - английский. Пробелы пропускаются при подстановке ключа. Ориентироваться на пример:\n",
    "```python\n",
    "encrypt('ATTACK AT DAWN', 'LEMON') = 'LXFOPV EF RNHR'\n",
    "```\n",
    "\n",
    "*NB: Возможно, вам понадобятся стандартные функции `ord(char)` и `char(N)`, которые возвращают номер символа `char` в таблице unicode или символ с номером `N` соответственно*"
   ]
  },
  {
   "cell_type": "markdown",
   "metadata": {},
   "source": [
    "# Задание 2 (numpy)\n",
    "\n",
    "Сделать функцию, которая разбивает набор данных - `ndarray` размером `(samples x features)`, например, `(1000 х 15)`, на k-групп методом k-fold. В качестве параметров функции - количество групп `k` и флаг `shuffle`."
   ]
  },
  {
   "cell_type": "markdown",
   "metadata": {},
   "source": [
    "# Задание 3 (matplotlib)\n",
    "\n",
    "Сгенерировать облако случайных точек (порядка 10-20) на плоскости и каждую точку соединить линиями с двумя её ближайшими соседями.\n",
    "\n",
    "Пример:\n",
    "<center><img src='img/2.3.png'></center>"
   ]
  }
 ],
 "metadata": {
  "kernelspec": {
   "display_name": "Python 3",
   "language": "python",
   "name": "python3"
  },
  "language_info": {
   "codemirror_mode": {
    "name": "ipython",
    "version": 3
   },
   "file_extension": ".py",
   "mimetype": "text/x-python",
   "name": "python",
   "nbconvert_exporter": "python",
   "pygments_lexer": "ipython3",
   "version": "3.8.2"
  }
 },
 "nbformat": 4,
 "nbformat_minor": 2
}
